{
 "cells": [
  {
   "cell_type": "code",
   "execution_count": 1,
   "id": "5485e09e-8f5d-4441-88a0-01a61bc51bb2",
   "metadata": {},
   "outputs": [],
   "source": [
    "# Importing the libraries\n",
    "import pandas as pd\n",
    "import numpy as np\n",
    "import os\n",
    "# Ignore all warnings\n",
    "import warnings\n",
    "warnings.filterwarnings('ignore')"
   ]
  },
  {
   "cell_type": "code",
   "execution_count": 2,
   "id": "0ca90631-e9b6-433b-a731-aa000d4ffc52",
   "metadata": {},
   "outputs": [],
   "source": [
    "cwd = os.getcwd() \n",
    "folder_path = os.path.join(cwd, 'RawData')"
   ]
  },
  {
   "cell_type": "code",
   "execution_count": 3,
   "id": "09367919-1a42-4618-9b8a-3221cfba746e",
   "metadata": {},
   "outputs": [],
   "source": [
    "# reading csv files and storing as a dataframe\n",
    "df_abgevents = pd.read_csv(os.path.join(folder_path,\"ABGevents.csv\"))\n",
    "df_calc_death = pd.read_csv(os.path.join(folder_path,\"calc_deaths.csv\"))\n",
    "df_culture_events = pd.read_csv(os.path.join(folder_path,\"CultureEvents.csv\"))\n",
    "df_fluid_balance_events = pd.read_csv(os.path.join(folder_path,\"FluidBalanceEvents.csv\"))\n",
    "df_hemo=pd.read_csv(os.path.join(folder_path,\"HemoEvents.csv\"))\n",
    "df_serology=pd.read_csv(os.path.join(folder_path,\"SerologyEvents.csv\"))\n",
    "df_chem=pd.read_csv(os.path.join(folder_path,\"ChemistryEvents.csv\"))\n",
    "df_cbc=pd.read_csv(os.path.join(folder_path,\"CBCEvents.csv\"))"
   ]
  },
  {
   "cell_type": "markdown",
   "id": "b0696a10-22a1-485e-af93-62486c55f206",
   "metadata": {},
   "source": [
    "### Calc_Death DataFrame Cleaning:"
   ]
  },
  {
   "cell_type": "code",
   "execution_count": 4,
   "id": "ae877fa1-6ce2-4490-a0bb-e21e75b29af8",
   "metadata": {},
   "outputs": [
    {
     "data": {
      "text/html": [
       "<div>\n",
       "<style scoped>\n",
       "    .dataframe tbody tr th:only-of-type {\n",
       "        vertical-align: middle;\n",
       "    }\n",
       "\n",
       "    .dataframe tbody tr th {\n",
       "        vertical-align: top;\n",
       "    }\n",
       "\n",
       "    .dataframe thead th {\n",
       "        text-align: right;\n",
       "    }\n",
       "</style>\n",
       "<table border=\"1\" class=\"dataframe\">\n",
       "  <thead>\n",
       "    <tr style=\"text-align: right;\">\n",
       "      <th></th>\n",
       "      <th>OPO</th>\n",
       "      <th>Year</th>\n",
       "      <th>calc_deaths</th>\n",
       "      <th>calc_deaths_lb</th>\n",
       "      <th>calc_deaths_ub</th>\n",
       "    </tr>\n",
       "  </thead>\n",
       "  <tbody>\n",
       "    <tr>\n",
       "      <th>0</th>\n",
       "      <td>OPO4</td>\n",
       "      <td>2015</td>\n",
       "      <td>3074.575</td>\n",
       "      <td>3026.575</td>\n",
       "      <td>3122.575</td>\n",
       "    </tr>\n",
       "    <tr>\n",
       "      <th>1</th>\n",
       "      <td>OPO4</td>\n",
       "      <td>2016</td>\n",
       "      <td>3146.335</td>\n",
       "      <td>3098.335</td>\n",
       "      <td>3194.335</td>\n",
       "    </tr>\n",
       "    <tr>\n",
       "      <th>2</th>\n",
       "      <td>OPO4</td>\n",
       "      <td>2017</td>\n",
       "      <td>3163.300</td>\n",
       "      <td>3123.300</td>\n",
       "      <td>3203.300</td>\n",
       "    </tr>\n",
       "    <tr>\n",
       "      <th>3</th>\n",
       "      <td>OPO4</td>\n",
       "      <td>2018</td>\n",
       "      <td>3079.760</td>\n",
       "      <td>3039.760</td>\n",
       "      <td>3119.760</td>\n",
       "    </tr>\n",
       "    <tr>\n",
       "      <th>4</th>\n",
       "      <td>OPO4</td>\n",
       "      <td>2019</td>\n",
       "      <td>3125.530</td>\n",
       "      <td>3069.530</td>\n",
       "      <td>3181.530</td>\n",
       "    </tr>\n",
       "  </tbody>\n",
       "</table>\n",
       "</div>"
      ],
      "text/plain": [
       "    OPO  Year  calc_deaths  calc_deaths_lb  calc_deaths_ub\n",
       "0  OPO4  2015     3074.575        3026.575        3122.575\n",
       "1  OPO4  2016     3146.335        3098.335        3194.335\n",
       "2  OPO4  2017     3163.300        3123.300        3203.300\n",
       "3  OPO4  2018     3079.760        3039.760        3119.760\n",
       "4  OPO4  2019     3125.530        3069.530        3181.530"
      ]
     },
     "execution_count": 4,
     "metadata": {},
     "output_type": "execute_result"
    }
   ],
   "source": [
    "# Checking the values\n",
    "df_calc_death.head(5)"
   ]
  },
  {
   "cell_type": "code",
   "execution_count": 5,
   "id": "afc0840c-2b2d-46d1-a384-17cf9adb3240",
   "metadata": {},
   "outputs": [
    {
     "data": {
      "text/plain": [
       "OPO                object\n",
       "Year                int64\n",
       "calc_deaths       float64\n",
       "calc_deaths_lb    float64\n",
       "calc_deaths_ub    float64\n",
       "dtype: object"
      ]
     },
     "execution_count": 5,
     "metadata": {},
     "output_type": "execute_result"
    }
   ],
   "source": [
    "df_calc_death.dtypes"
   ]
  },
  {
   "cell_type": "code",
   "execution_count": 6,
   "id": "a510c75d-a243-4a21-9ad9-85c474ebc2a1",
   "metadata": {},
   "outputs": [
    {
     "data": {
      "text/html": [
       "<div>\n",
       "<style scoped>\n",
       "    .dataframe tbody tr th:only-of-type {\n",
       "        vertical-align: middle;\n",
       "    }\n",
       "\n",
       "    .dataframe tbody tr th {\n",
       "        vertical-align: top;\n",
       "    }\n",
       "\n",
       "    .dataframe thead th {\n",
       "        text-align: right;\n",
       "    }\n",
       "</style>\n",
       "<table border=\"1\" class=\"dataframe\">\n",
       "  <thead>\n",
       "    <tr style=\"text-align: right;\">\n",
       "      <th></th>\n",
       "      <th>OPO</th>\n",
       "      <th>Year</th>\n",
       "      <th>calc_deaths</th>\n",
       "      <th>calc_deaths_lb</th>\n",
       "      <th>calc_deaths_ub</th>\n",
       "    </tr>\n",
       "  </thead>\n",
       "  <tbody>\n",
       "  </tbody>\n",
       "</table>\n",
       "</div>"
      ],
      "text/plain": [
       "Empty DataFrame\n",
       "Columns: [OPO, Year, calc_deaths, calc_deaths_lb, calc_deaths_ub]\n",
       "Index: []"
      ]
     },
     "execution_count": 6,
     "metadata": {},
     "output_type": "execute_result"
    }
   ],
   "source": [
    "#Checking for duplicates,there are no duplicates in this DataFrame\n",
    "df_calc_death[df_calc_death.duplicated()]"
   ]
  },
  {
   "cell_type": "code",
   "execution_count": 8,
   "id": "f2880017-5fc1-4c41-b345-908e91437dc5",
   "metadata": {},
   "outputs": [
    {
     "data": {
      "text/html": [
       "<div>\n",
       "<style scoped>\n",
       "    .dataframe tbody tr th:only-of-type {\n",
       "        vertical-align: middle;\n",
       "    }\n",
       "\n",
       "    .dataframe tbody tr th {\n",
       "        vertical-align: top;\n",
       "    }\n",
       "\n",
       "    .dataframe thead th {\n",
       "        text-align: right;\n",
       "    }\n",
       "</style>\n",
       "<table border=\"1\" class=\"dataframe\">\n",
       "  <thead>\n",
       "    <tr style=\"text-align: right;\">\n",
       "      <th></th>\n",
       "      <th>OPO</th>\n",
       "      <th>Year</th>\n",
       "      <th>calc_deaths</th>\n",
       "      <th>calc_deaths_lb</th>\n",
       "      <th>calc_deaths_ub</th>\n",
       "    </tr>\n",
       "  </thead>\n",
       "  <tbody>\n",
       "    <tr>\n",
       "      <th>12</th>\n",
       "      <td>OPO2</td>\n",
       "      <td>2015</td>\n",
       "      <td>1596.0</td>\n",
       "      <td>1504.0</td>\n",
       "      <td>1688.0</td>\n",
       "    </tr>\n",
       "    <tr>\n",
       "      <th>13</th>\n",
       "      <td>OPO2</td>\n",
       "      <td>2016</td>\n",
       "      <td>1672.0</td>\n",
       "      <td>1564.0</td>\n",
       "      <td>1780.0</td>\n",
       "    </tr>\n",
       "    <tr>\n",
       "      <th>14</th>\n",
       "      <td>OPO2</td>\n",
       "      <td>2017</td>\n",
       "      <td>1790.0</td>\n",
       "      <td>1690.0</td>\n",
       "      <td>1890.0</td>\n",
       "    </tr>\n",
       "  </tbody>\n",
       "</table>\n",
       "</div>"
      ],
      "text/plain": [
       "     OPO  Year  calc_deaths  calc_deaths_lb  calc_deaths_ub\n",
       "12  OPO2  2015       1596.0          1504.0          1688.0\n",
       "13  OPO2  2016       1672.0          1564.0          1780.0\n",
       "14  OPO2  2017       1790.0          1690.0          1890.0"
      ]
     },
     "execution_count": 8,
     "metadata": {},
     "output_type": "execute_result"
    }
   ],
   "source": [
    "#OPO 2 data covers Jan 1, 2018 - December 31, 2021 but we have data from 2015 to 2020\n",
    "df_calc_death.loc[(df_calc_death['Year']<2018) & (df_calc_death['OPO']=='OPO2')]"
   ]
  },
  {
   "cell_type": "code",
   "execution_count": 11,
   "id": "f2270f4e-251d-41c2-8d02-ae04ffdf12e2",
   "metadata": {},
   "outputs": [],
   "source": [
    "# Dropping the rows for the year 2015,2016,2017 for OPO2.\n",
    "df_calc_death.drop(df_calc_death[(df_calc_death.Year < 2018) & (df_calc_death.OPO == 'OPO2')].index, inplace=True)"
   ]
  },
  {
   "cell_type": "code",
   "execution_count": 12,
   "id": "f1b05427-a75f-4cdf-b89d-b97866a55e8b",
   "metadata": {},
   "outputs": [],
   "source": [
    "# rounding the calc_deaths column values to 2 decimal places\n",
    "df_calc_death['calc_deaths'] = df_calc_death['calc_deaths'].round(2)"
   ]
  },
  {
   "cell_type": "code",
   "execution_count": 13,
   "id": "64e07a0d-f032-4186-948d-1f3e9a1a567a",
   "metadata": {},
   "outputs": [],
   "source": [
    "# rounding the calc_deaths_lb column values to 2 decimal places\n",
    "df_calc_death['calc_deaths_lb'] = df_calc_death['calc_deaths_lb'].round(2)"
   ]
  },
  {
   "cell_type": "code",
   "execution_count": 14,
   "id": "d045b902-fa65-44b3-85b7-b94c906b8e1d",
   "metadata": {},
   "outputs": [],
   "source": [
    "# rounding the calc_deaths_ub column values to 2 decimal places\n",
    "df_calc_death['calc_deaths_ub'] = df_calc_death['calc_deaths_ub'].round(2)"
   ]
  },
  {
   "cell_type": "code",
   "execution_count": 15,
   "id": "2ebfe739-7c0c-47d3-9414-c355d90d1ba0",
   "metadata": {},
   "outputs": [
    {
     "data": {
      "text/html": [
       "<div>\n",
       "<style scoped>\n",
       "    .dataframe tbody tr th:only-of-type {\n",
       "        vertical-align: middle;\n",
       "    }\n",
       "\n",
       "    .dataframe tbody tr th {\n",
       "        vertical-align: top;\n",
       "    }\n",
       "\n",
       "    .dataframe thead th {\n",
       "        text-align: right;\n",
       "    }\n",
       "</style>\n",
       "<table border=\"1\" class=\"dataframe\">\n",
       "  <thead>\n",
       "    <tr style=\"text-align: right;\">\n",
       "      <th></th>\n",
       "      <th>OPO</th>\n",
       "      <th>Year</th>\n",
       "      <th>calc_deaths</th>\n",
       "      <th>calc_deaths_lb</th>\n",
       "      <th>calc_deaths_ub</th>\n",
       "    </tr>\n",
       "  </thead>\n",
       "  <tbody>\n",
       "    <tr>\n",
       "      <th>0</th>\n",
       "      <td>OPO4</td>\n",
       "      <td>2015</td>\n",
       "      <td>3074.58</td>\n",
       "      <td>3026.58</td>\n",
       "      <td>3122.58</td>\n",
       "    </tr>\n",
       "    <tr>\n",
       "      <th>1</th>\n",
       "      <td>OPO4</td>\n",
       "      <td>2016</td>\n",
       "      <td>3146.34</td>\n",
       "      <td>3098.34</td>\n",
       "      <td>3194.34</td>\n",
       "    </tr>\n",
       "    <tr>\n",
       "      <th>2</th>\n",
       "      <td>OPO4</td>\n",
       "      <td>2017</td>\n",
       "      <td>3163.30</td>\n",
       "      <td>3123.30</td>\n",
       "      <td>3203.30</td>\n",
       "    </tr>\n",
       "    <tr>\n",
       "      <th>3</th>\n",
       "      <td>OPO4</td>\n",
       "      <td>2018</td>\n",
       "      <td>3079.76</td>\n",
       "      <td>3039.76</td>\n",
       "      <td>3119.76</td>\n",
       "    </tr>\n",
       "    <tr>\n",
       "      <th>4</th>\n",
       "      <td>OPO4</td>\n",
       "      <td>2019</td>\n",
       "      <td>3125.53</td>\n",
       "      <td>3069.53</td>\n",
       "      <td>3181.53</td>\n",
       "    </tr>\n",
       "  </tbody>\n",
       "</table>\n",
       "</div>"
      ],
      "text/plain": [
       "    OPO  Year  calc_deaths  calc_deaths_lb  calc_deaths_ub\n",
       "0  OPO4  2015      3074.58         3026.58         3122.58\n",
       "1  OPO4  2016      3146.34         3098.34         3194.34\n",
       "2  OPO4  2017      3163.30         3123.30         3203.30\n",
       "3  OPO4  2018      3079.76         3039.76         3119.76\n",
       "4  OPO4  2019      3125.53         3069.53         3181.53"
      ]
     },
     "execution_count": 15,
     "metadata": {},
     "output_type": "execute_result"
    }
   ],
   "source": [
    "# Verifying the data after cleanup\n",
    "df_calc_death.head(5)"
   ]
  },
  {
   "cell_type": "code",
   "execution_count": null,
   "id": "5a6d82fa-db54-4147-b9ad-834c2c417863",
   "metadata": {},
   "outputs": [],
   "source": []
  }
 ],
 "metadata": {
  "kernelspec": {
   "display_name": "Python 3 (ipykernel)",
   "language": "python",
   "name": "python3"
  },
  "language_info": {
   "codemirror_mode": {
    "name": "ipython",
    "version": 3
   },
   "file_extension": ".py",
   "mimetype": "text/x-python",
   "name": "python",
   "nbconvert_exporter": "python",
   "pygments_lexer": "ipython3",
   "version": "3.11.7"
  }
 },
 "nbformat": 4,
 "nbformat_minor": 5
}
