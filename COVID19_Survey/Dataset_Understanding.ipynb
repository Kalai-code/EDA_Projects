{
 "cells": [
  {
   "cell_type": "code",
   "execution_count": 1,
   "id": "8303c60f-21bd-4b69-b18d-ef3856dc2a61",
   "metadata": {},
   "outputs": [],
   "source": [
    "import os\n",
    "import pandas as pd"
   ]
  },
  {
   "cell_type": "code",
   "execution_count": 2,
   "id": "66ecd5eb-ac08-4e49-aab5-a9103209716a",
   "metadata": {},
   "outputs": [],
   "source": [
    "cwd = os.getcwd() \n",
    "folder_path = os.path.join(cwd, 'Data')"
   ]
  },
  {
   "cell_type": "code",
   "execution_count": 3,
   "id": "e28c7aca-deb9-4fb2-8d5d-2c4b33b762d9",
   "metadata": {},
   "outputs": [],
   "source": [
    "schema1_file_name = 'schema_1_ontario_final.csv' \n",
    "schema2_file_name = 'schema_2_ontario_final.csv' \n",
    "schema3_file_name = 'schema_3_ontario_final.csv' "
   ]
  },
  {
   "cell_type": "code",
   "execution_count": 4,
   "id": "a774b37f-4ed9-4910-99c6-1e78bef9da02",
   "metadata": {},
   "outputs": [],
   "source": [
    "# getting the current working directory and reading all three files and storing as a dataframe\n",
    "df_schema1 = pd.read_csv(os.path.join(folder_path, schema1_file_name))\n",
    "df_schema2 = pd.read_csv(os.path.join(folder_path, schema2_file_name))\n",
    "df_schema3 = pd.read_csv(os.path.join(folder_path, schema3_file_name))"
   ]
  },
  {
   "cell_type": "code",
   "execution_count": 5,
   "id": "7e8afd6f-3a73-4d91-975e-2156f846b20c",
   "metadata": {},
   "outputs": [
    {
     "name": "stdout",
     "output_type": "stream",
     "text": [
      "(263639, 12)\n",
      "(14932, 17)\n",
      "(15534, 26)\n"
     ]
    }
   ],
   "source": [
    "# inspect the dataframes to see number of records and number of columns\n",
    "print(df_schema1.shape)\n",
    "print(df_schema2.shape)\n",
    "print(df_schema3.shape)"
   ]
  },
  {
   "cell_type": "code",
   "execution_count": 6,
   "id": "c67496f2-6843-4d63-bf29-0db2253c723b",
   "metadata": {},
   "outputs": [
    {
     "data": {
      "text/plain": [
       "Index(['week', 'fsa', 'probable', 'vulnerable', 'is_most_recent',\n",
       "       'fever_chills_shakes', 'cough', 'shortness_of_breath', 'over_60',\n",
       "       'any_medical_conditions', 'travel_outside_canada',\n",
       "       'contact_with_illness'],\n",
       "      dtype='object')"
      ]
     },
     "execution_count": 6,
     "metadata": {},
     "output_type": "execute_result"
    }
   ],
   "source": [
    "df_schema1.columns"
   ]
  },
  {
   "cell_type": "code",
   "execution_count": 7,
   "id": "7f4a4cbb-b288-41f1-a94e-9e827ba8323b",
   "metadata": {},
   "outputs": [
    {
     "data": {
      "text/plain": [
       "week                       int64\n",
       "fsa                       object\n",
       "probable                  object\n",
       "vulnerable                object\n",
       "is_most_recent            object\n",
       "fever_chills_shakes       object\n",
       "cough                     object\n",
       "shortness_of_breath       object\n",
       "over_60                   object\n",
       "any_medical_conditions    object\n",
       "travel_outside_canada     object\n",
       "contact_with_illness      object\n",
       "dtype: object"
      ]
     },
     "execution_count": 7,
     "metadata": {},
     "output_type": "execute_result"
    }
   ],
   "source": [
    "df_schema1.dtypes"
   ]
  },
  {
   "cell_type": "code",
   "execution_count": 8,
   "id": "674acd94-8ad1-4c42-92e7-e34b54cd9eac",
   "metadata": {},
   "outputs": [
    {
     "data": {
      "text/html": [
       "<div>\n",
       "<style scoped>\n",
       "    .dataframe tbody tr th:only-of-type {\n",
       "        vertical-align: middle;\n",
       "    }\n",
       "\n",
       "    .dataframe tbody tr th {\n",
       "        vertical-align: top;\n",
       "    }\n",
       "\n",
       "    .dataframe thead th {\n",
       "        text-align: right;\n",
       "    }\n",
       "</style>\n",
       "<table border=\"1\" class=\"dataframe\">\n",
       "  <thead>\n",
       "    <tr style=\"text-align: right;\">\n",
       "      <th></th>\n",
       "      <th>week</th>\n",
       "      <th>fsa</th>\n",
       "      <th>probable</th>\n",
       "      <th>vulnerable</th>\n",
       "      <th>is_most_recent</th>\n",
       "      <th>fever_chills_shakes</th>\n",
       "      <th>cough</th>\n",
       "      <th>shortness_of_breath</th>\n",
       "      <th>over_60</th>\n",
       "      <th>any_medical_conditions</th>\n",
       "      <th>travel_outside_canada</th>\n",
       "      <th>contact_with_illness</th>\n",
       "    </tr>\n",
       "  </thead>\n",
       "  <tbody>\n",
       "    <tr>\n",
       "      <th>0</th>\n",
       "      <td>13</td>\n",
       "      <td>L4C</td>\n",
       "      <td>n</td>\n",
       "      <td>n</td>\n",
       "      <td>y</td>\n",
       "      <td>n</td>\n",
       "      <td>n</td>\n",
       "      <td>n</td>\n",
       "      <td>n</td>\n",
       "      <td>n</td>\n",
       "      <td>n</td>\n",
       "      <td>n</td>\n",
       "    </tr>\n",
       "    <tr>\n",
       "      <th>1</th>\n",
       "      <td>13</td>\n",
       "      <td>P1H</td>\n",
       "      <td>y</td>\n",
       "      <td>y</td>\n",
       "      <td>y</td>\n",
       "      <td>n</td>\n",
       "      <td>n</td>\n",
       "      <td>n</td>\n",
       "      <td>y</td>\n",
       "      <td>y</td>\n",
       "      <td>n</td>\n",
       "      <td>y</td>\n",
       "    </tr>\n",
       "    <tr>\n",
       "      <th>2</th>\n",
       "      <td>14</td>\n",
       "      <td>N2J</td>\n",
       "      <td>n</td>\n",
       "      <td>y</td>\n",
       "      <td>y</td>\n",
       "      <td>n</td>\n",
       "      <td>n</td>\n",
       "      <td>n</td>\n",
       "      <td>y</td>\n",
       "      <td>n</td>\n",
       "      <td>n</td>\n",
       "      <td>n</td>\n",
       "    </tr>\n",
       "    <tr>\n",
       "      <th>3</th>\n",
       "      <td>13</td>\n",
       "      <td>N1G</td>\n",
       "      <td>n</td>\n",
       "      <td>n</td>\n",
       "      <td>y</td>\n",
       "      <td>n</td>\n",
       "      <td>n</td>\n",
       "      <td>n</td>\n",
       "      <td>n</td>\n",
       "      <td>n</td>\n",
       "      <td>n</td>\n",
       "      <td>n</td>\n",
       "    </tr>\n",
       "    <tr>\n",
       "      <th>4</th>\n",
       "      <td>13</td>\n",
       "      <td>M1P</td>\n",
       "      <td>n</td>\n",
       "      <td>y</td>\n",
       "      <td>n</td>\n",
       "      <td>n</td>\n",
       "      <td>n</td>\n",
       "      <td>n</td>\n",
       "      <td>n</td>\n",
       "      <td>y</td>\n",
       "      <td>n</td>\n",
       "      <td>n</td>\n",
       "    </tr>\n",
       "  </tbody>\n",
       "</table>\n",
       "</div>"
      ],
      "text/plain": [
       "   week  fsa probable vulnerable is_most_recent fever_chills_shakes cough  \\\n",
       "0    13  L4C        n          n              y                   n     n   \n",
       "1    13  P1H        y          y              y                   n     n   \n",
       "2    14  N2J        n          y              y                   n     n   \n",
       "3    13  N1G        n          n              y                   n     n   \n",
       "4    13  M1P        n          y              n                   n     n   \n",
       "\n",
       "  shortness_of_breath over_60 any_medical_conditions travel_outside_canada  \\\n",
       "0                   n       n                      n                     n   \n",
       "1                   n       y                      y                     n   \n",
       "2                   n       y                      n                     n   \n",
       "3                   n       n                      n                     n   \n",
       "4                   n       n                      y                     n   \n",
       "\n",
       "  contact_with_illness  \n",
       "0                    n  \n",
       "1                    y  \n",
       "2                    n  \n",
       "3                    n  \n",
       "4                    n  "
      ]
     },
     "execution_count": 8,
     "metadata": {},
     "output_type": "execute_result"
    }
   ],
   "source": [
    "df_schema1.head(5)"
   ]
  },
  {
   "cell_type": "code",
   "execution_count": 9,
   "id": "a9538294-88a0-47df-972b-79428d86de23",
   "metadata": {},
   "outputs": [
    {
     "data": {
      "text/plain": [
       "Index(['week', 'fsa', 'probable', 'vulnerable', 'is_most_recent',\n",
       "       'fever_chills_shakes', 'cough', 'shortness_of_breath',\n",
       "       'any_medical_conditions', 'travel_outside_canada',\n",
       "       'contact_with_illness', 'symptoms', 'conditions', 'ethnicity', 'sex',\n",
       "       'needs', 'age_1'],\n",
       "      dtype='object')"
      ]
     },
     "execution_count": 9,
     "metadata": {},
     "output_type": "execute_result"
    }
   ],
   "source": [
    "df_schema2.columns"
   ]
  },
  {
   "cell_type": "code",
   "execution_count": 10,
   "id": "3b17bec5-b7e0-432d-a8bf-ead191e5ce4a",
   "metadata": {},
   "outputs": [
    {
     "data": {
      "text/plain": [
       "week                       int64\n",
       "fsa                       object\n",
       "probable                  object\n",
       "vulnerable                object\n",
       "is_most_recent            object\n",
       "fever_chills_shakes       object\n",
       "cough                     object\n",
       "shortness_of_breath       object\n",
       "any_medical_conditions    object\n",
       "travel_outside_canada     object\n",
       "contact_with_illness      object\n",
       "symptoms                  object\n",
       "conditions                object\n",
       "ethnicity                 object\n",
       "sex                       object\n",
       "needs                     object\n",
       "age_1                     object\n",
       "dtype: object"
      ]
     },
     "execution_count": 10,
     "metadata": {},
     "output_type": "execute_result"
    }
   ],
   "source": [
    "df_schema2.dtypes"
   ]
  },
  {
   "cell_type": "code",
   "execution_count": 11,
   "id": "1e265b55-2b0d-47f0-bef5-3935a9fd009b",
   "metadata": {},
   "outputs": [
    {
     "data": {
      "text/html": [
       "<div>\n",
       "<style scoped>\n",
       "    .dataframe tbody tr th:only-of-type {\n",
       "        vertical-align: middle;\n",
       "    }\n",
       "\n",
       "    .dataframe tbody tr th {\n",
       "        vertical-align: top;\n",
       "    }\n",
       "\n",
       "    .dataframe thead th {\n",
       "        text-align: right;\n",
       "    }\n",
       "</style>\n",
       "<table border=\"1\" class=\"dataframe\">\n",
       "  <thead>\n",
       "    <tr style=\"text-align: right;\">\n",
       "      <th></th>\n",
       "      <th>week</th>\n",
       "      <th>fsa</th>\n",
       "      <th>probable</th>\n",
       "      <th>vulnerable</th>\n",
       "      <th>is_most_recent</th>\n",
       "      <th>fever_chills_shakes</th>\n",
       "      <th>cough</th>\n",
       "      <th>shortness_of_breath</th>\n",
       "      <th>any_medical_conditions</th>\n",
       "      <th>travel_outside_canada</th>\n",
       "      <th>contact_with_illness</th>\n",
       "      <th>symptoms</th>\n",
       "      <th>conditions</th>\n",
       "      <th>ethnicity</th>\n",
       "      <th>sex</th>\n",
       "      <th>needs</th>\n",
       "      <th>age_1</th>\n",
       "    </tr>\n",
       "  </thead>\n",
       "  <tbody>\n",
       "    <tr>\n",
       "      <th>0</th>\n",
       "      <td>15</td>\n",
       "      <td>M1P</td>\n",
       "      <td>n</td>\n",
       "      <td>n</td>\n",
       "      <td>y</td>\n",
       "      <td>n</td>\n",
       "      <td>n</td>\n",
       "      <td>n</td>\n",
       "      <td>y</td>\n",
       "      <td>n</td>\n",
       "      <td>n</td>\n",
       "      <td>NaN</td>\n",
       "      <td>NaN</td>\n",
       "      <td>NaN</td>\n",
       "      <td>m</td>\n",
       "      <td>NaN</td>\n",
       "      <td>45-64</td>\n",
       "    </tr>\n",
       "    <tr>\n",
       "      <th>1</th>\n",
       "      <td>16</td>\n",
       "      <td>N2P</td>\n",
       "      <td>n</td>\n",
       "      <td>y</td>\n",
       "      <td>y</td>\n",
       "      <td>n</td>\n",
       "      <td>n</td>\n",
       "      <td>n</td>\n",
       "      <td>y</td>\n",
       "      <td>n</td>\n",
       "      <td>n</td>\n",
       "      <td>runnyNose</td>\n",
       "      <td>highBloodPressure</td>\n",
       "      <td>asian</td>\n",
       "      <td>m</td>\n",
       "      <td>other</td>\n",
       "      <td>45-64</td>\n",
       "    </tr>\n",
       "    <tr>\n",
       "      <th>2</th>\n",
       "      <td>16</td>\n",
       "      <td>N2P</td>\n",
       "      <td>n</td>\n",
       "      <td>y</td>\n",
       "      <td>n</td>\n",
       "      <td>n</td>\n",
       "      <td>n</td>\n",
       "      <td>n</td>\n",
       "      <td>y</td>\n",
       "      <td>n</td>\n",
       "      <td>n</td>\n",
       "      <td>NaN</td>\n",
       "      <td>highBloodPressure</td>\n",
       "      <td>asian</td>\n",
       "      <td>m</td>\n",
       "      <td>other</td>\n",
       "      <td>45-64</td>\n",
       "    </tr>\n",
       "    <tr>\n",
       "      <th>3</th>\n",
       "      <td>16</td>\n",
       "      <td>M4P</td>\n",
       "      <td>n</td>\n",
       "      <td>n</td>\n",
       "      <td>y</td>\n",
       "      <td>n</td>\n",
       "      <td>n</td>\n",
       "      <td>n</td>\n",
       "      <td>y</td>\n",
       "      <td>n</td>\n",
       "      <td>n</td>\n",
       "      <td>NaN</td>\n",
       "      <td>NaN</td>\n",
       "      <td>caucasian</td>\n",
       "      <td>f</td>\n",
       "      <td>emotionalSupport</td>\n",
       "      <td>26-44</td>\n",
       "    </tr>\n",
       "    <tr>\n",
       "      <th>4</th>\n",
       "      <td>16</td>\n",
       "      <td>L4N</td>\n",
       "      <td>n</td>\n",
       "      <td>n</td>\n",
       "      <td>y</td>\n",
       "      <td>n</td>\n",
       "      <td>n</td>\n",
       "      <td>n</td>\n",
       "      <td>y</td>\n",
       "      <td>n</td>\n",
       "      <td>n</td>\n",
       "      <td>NaN</td>\n",
       "      <td>NaN</td>\n",
       "      <td>caucasian</td>\n",
       "      <td>f</td>\n",
       "      <td>emotionalSupport</td>\n",
       "      <td>26-44</td>\n",
       "    </tr>\n",
       "  </tbody>\n",
       "</table>\n",
       "</div>"
      ],
      "text/plain": [
       "   week  fsa probable vulnerable is_most_recent fever_chills_shakes cough  \\\n",
       "0    15  M1P        n          n              y                   n     n   \n",
       "1    16  N2P        n          y              y                   n     n   \n",
       "2    16  N2P        n          y              n                   n     n   \n",
       "3    16  M4P        n          n              y                   n     n   \n",
       "4    16  L4N        n          n              y                   n     n   \n",
       "\n",
       "  shortness_of_breath any_medical_conditions travel_outside_canada  \\\n",
       "0                   n                      y                     n   \n",
       "1                   n                      y                     n   \n",
       "2                   n                      y                     n   \n",
       "3                   n                      y                     n   \n",
       "4                   n                      y                     n   \n",
       "\n",
       "  contact_with_illness   symptoms         conditions  ethnicity sex  \\\n",
       "0                    n        NaN                NaN        NaN   m   \n",
       "1                    n  runnyNose  highBloodPressure      asian   m   \n",
       "2                    n        NaN  highBloodPressure      asian   m   \n",
       "3                    n        NaN                NaN  caucasian   f   \n",
       "4                    n        NaN                NaN  caucasian   f   \n",
       "\n",
       "              needs  age_1  \n",
       "0               NaN  45-64  \n",
       "1             other  45-64  \n",
       "2             other  45-64  \n",
       "3  emotionalSupport  26-44  \n",
       "4  emotionalSupport  26-44  "
      ]
     },
     "execution_count": 11,
     "metadata": {},
     "output_type": "execute_result"
    }
   ],
   "source": [
    "df_schema2.head(5)"
   ]
  },
  {
   "cell_type": "code",
   "execution_count": 12,
   "id": "c6123beb-a384-4dce-bed5-e7668f51c4a1",
   "metadata": {},
   "outputs": [
    {
     "data": {
      "text/plain": [
       "Index(['month', 'fsa', 'probable', 'vulnerable', 'fever_chills_shakes',\n",
       "       'cough', 'shortness_of_breath', 'any_medical_conditions',\n",
       "       'travel_outside_canada', 'contact_with_illness', 'contact_in_household',\n",
       "       'tested', 'covid_results_date', 'covid_positive', 'symptoms',\n",
       "       'conditions', 'ethnicity', 'sex', 'needs', 'age_1',\n",
       "       'mental_health_impact', 'travel_work_school', 'self_isolating',\n",
       "       'media_channels', 'financial_obligations_impact', 'tobacco_usage'],\n",
       "      dtype='object')"
      ]
     },
     "execution_count": 12,
     "metadata": {},
     "output_type": "execute_result"
    }
   ],
   "source": [
    "df_schema3.columns"
   ]
  },
  {
   "cell_type": "code",
   "execution_count": 13,
   "id": "8df2f138-26d8-4ae6-83e6-2d5a5eb2b0af",
   "metadata": {},
   "outputs": [
    {
     "data": {
      "text/plain": [
       "month                           object\n",
       "fsa                             object\n",
       "probable                        object\n",
       "vulnerable                      object\n",
       "fever_chills_shakes             object\n",
       "cough                           object\n",
       "shortness_of_breath             object\n",
       "any_medical_conditions          object\n",
       "travel_outside_canada           object\n",
       "contact_with_illness            object\n",
       "contact_in_household            object\n",
       "tested                          object\n",
       "covid_results_date              object\n",
       "covid_positive                  object\n",
       "symptoms                        object\n",
       "conditions                      object\n",
       "ethnicity                       object\n",
       "sex                             object\n",
       "needs                           object\n",
       "age_1                           object\n",
       "mental_health_impact            object\n",
       "travel_work_school              object\n",
       "self_isolating                  object\n",
       "media_channels                  object\n",
       "financial_obligations_impact    object\n",
       "tobacco_usage                   object\n",
       "dtype: object"
      ]
     },
     "execution_count": 13,
     "metadata": {},
     "output_type": "execute_result"
    }
   ],
   "source": [
    "df_schema3.dtypes"
   ]
  },
  {
   "cell_type": "code",
   "execution_count": 14,
   "id": "d0eaff71-925c-4a5f-b397-b9d162ae48ac",
   "metadata": {},
   "outputs": [],
   "source": [
    "# Define the conversion dictionary\n",
    "convert_dict = {'week': object}\n",
    "df_schema1 = df_schema1.astype(convert_dict)\n",
    "df_schema2 = df_schema2.astype(convert_dict)"
   ]
  },
  {
   "cell_type": "code",
   "execution_count": 15,
   "id": "5af37e38-f001-4570-95ed-04c4b8b30ce8",
   "metadata": {},
   "outputs": [],
   "source": [
    "df_schema1 = df_schema1.rename(columns={'week': 'week_month'})\n",
    "df_schema2 = df_schema2.rename(columns={'week': 'week_month'})\n",
    "df_schema3 = df_schema3.rename(columns={'month': 'week_month'})"
   ]
  },
  {
   "cell_type": "code",
   "execution_count": 16,
   "id": "76173eb3-157c-46d8-bd37-dc3fbcc65970",
   "metadata": {},
   "outputs": [],
   "source": [
    "df_schema1 = df_schema1.rename(columns={'over_60': 'age'})\n",
    "df_schema2 = df_schema2.rename(columns={'age_1': 'age'})\n",
    "df_schema3 = df_schema3.rename(columns={'age_1': 'age'})"
   ]
  },
  {
   "cell_type": "code",
   "execution_count": 17,
   "id": "fb43d39b-9c17-4317-941d-b3185480700a",
   "metadata": {},
   "outputs": [
    {
     "name": "stdout",
     "output_type": "stream",
     "text": [
      "Index(['conditions', 'ethnicity', 'needs', 'sex', 'symptoms'], dtype='object')\n",
      "Index(['contact_in_household', 'covid_positive', 'covid_results_date',\n",
      "       'financial_obligations_impact', 'is_most_recent', 'media_channels',\n",
      "       'mental_health_impact', 'self_isolating', 'tested', 'tobacco_usage',\n",
      "       'travel_work_school'],\n",
      "      dtype='object')\n"
     ]
    }
   ],
   "source": [
    "# shows the additional column in schema 2 than schema 1 and Schema 3 to Schema 2\n",
    "print (df_schema2.columns.symmetric_difference(df_schema1.columns))\n",
    "print (df_schema3.columns.symmetric_difference(df_schema2.columns))"
   ]
  },
  {
   "cell_type": "code",
   "execution_count": 18,
   "id": "8d7f59dc-942f-444e-8ef8-91fa6664e093",
   "metadata": {},
   "outputs": [],
   "source": [
    "df_merged_csv = pd.concat([df_schema1,df_schema2,df_schema3], ignore_index=True, sort=False)"
   ]
  },
  {
   "cell_type": "code",
   "execution_count": 24,
   "id": "0b2b6ac2-da96-4098-82e6-bb7e7e530e81",
   "metadata": {},
   "outputs": [
    {
     "data": {
      "text/plain": [
       "week_month                      object\n",
       "fsa                             object\n",
       "probable                        object\n",
       "vulnerable                      object\n",
       "is_most_recent                  object\n",
       "fever_chills_shakes             object\n",
       "cough                           object\n",
       "shortness_of_breath             object\n",
       "age                             object\n",
       "any_medical_conditions          object\n",
       "travel_outside_canada           object\n",
       "contact_with_illness            object\n",
       "symptoms                        object\n",
       "conditions                      object\n",
       "ethnicity                       object\n",
       "sex                             object\n",
       "needs                           object\n",
       "contact_in_household            object\n",
       "tested                          object\n",
       "covid_results_date              object\n",
       "covid_positive                  object\n",
       "mental_health_impact            object\n",
       "travel_work_school              object\n",
       "self_isolating                  object\n",
       "media_channels                  object\n",
       "financial_obligations_impact    object\n",
       "tobacco_usage                   object\n",
       "dtype: object"
      ]
     },
     "execution_count": 24,
     "metadata": {},
     "output_type": "execute_result"
    }
   ],
   "source": [
    "df_merged_csv.dtypes"
   ]
  },
  {
   "cell_type": "code",
   "execution_count": 20,
   "id": "d2d255b9-d96c-4fa4-896d-0fda7957477c",
   "metadata": {},
   "outputs": [],
   "source": [
    "df_merged_csv.to_csv(\"covid19_AllSchemaData\", encoding='utf-8', index=False)"
   ]
  },
  {
   "cell_type": "code",
   "execution_count": 21,
   "id": "cd19924a-0027-4bfd-abe5-35b1ab20a38c",
   "metadata": {},
   "outputs": [],
   "source": [
    "df_covid19_AllSchemaData = pd.read_csv(os.path.join(cwd, \"covid19_AllSchemaData\"), low_memory = False)"
   ]
  },
  {
   "cell_type": "code",
   "execution_count": 22,
   "id": "13b4474b-49cf-44a7-a611-4849086f2e39",
   "metadata": {},
   "outputs": [
    {
     "data": {
      "text/plain": [
       "(294105, 27)"
      ]
     },
     "execution_count": 22,
     "metadata": {},
     "output_type": "execute_result"
    }
   ],
   "source": [
    "df_covid19_AllSchemaData.shape"
   ]
  },
  {
   "cell_type": "code",
   "execution_count": 23,
   "id": "1c0922e3-d1a0-4295-abe6-618d6b0a88a8",
   "metadata": {},
   "outputs": [
    {
     "data": {
      "text/plain": [
       "week_month                      object\n",
       "fsa                             object\n",
       "probable                        object\n",
       "vulnerable                      object\n",
       "is_most_recent                  object\n",
       "fever_chills_shakes             object\n",
       "cough                           object\n",
       "shortness_of_breath             object\n",
       "age                             object\n",
       "any_medical_conditions          object\n",
       "travel_outside_canada           object\n",
       "contact_with_illness            object\n",
       "symptoms                        object\n",
       "conditions                      object\n",
       "ethnicity                       object\n",
       "sex                             object\n",
       "needs                           object\n",
       "contact_in_household            object\n",
       "tested                          object\n",
       "covid_results_date              object\n",
       "covid_positive                  object\n",
       "mental_health_impact            object\n",
       "travel_work_school              object\n",
       "self_isolating                  object\n",
       "media_channels                  object\n",
       "financial_obligations_impact    object\n",
       "tobacco_usage                   object\n",
       "dtype: object"
      ]
     },
     "execution_count": 23,
     "metadata": {},
     "output_type": "execute_result"
    }
   ],
   "source": [
    "df_covid19_AllSchemaData.dtypes"
   ]
  },
  {
   "cell_type": "code",
   "execution_count": null,
   "id": "6f856232-fdbe-4bb3-99eb-d37da273f911",
   "metadata": {},
   "outputs": [],
   "source": []
  }
 ],
 "metadata": {
  "kernelspec": {
   "display_name": "Python 3 (ipykernel)",
   "language": "python",
   "name": "python3"
  },
  "language_info": {
   "codemirror_mode": {
    "name": "ipython",
    "version": 3
   },
   "file_extension": ".py",
   "mimetype": "text/x-python",
   "name": "python",
   "nbconvert_exporter": "python",
   "pygments_lexer": "ipython3",
   "version": "3.11.7"
  }
 },
 "nbformat": 4,
 "nbformat_minor": 5
}
